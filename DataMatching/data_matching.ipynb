{
 "cells": [
  {
   "cell_type": "code",
   "execution_count": 1,
   "metadata": {},
   "outputs": [],
   "source": [
    "import pandas as pd"
   ]
  },
  {
   "cell_type": "code",
   "execution_count": 11,
   "metadata": {},
   "outputs": [],
   "source": [
    "df = pd.read_json(\"./data.json\")"
   ]
  },
  {
   "cell_type": "code",
   "execution_count": 13,
   "metadata": {},
   "outputs": [
    {
     "name": "stdout",
     "output_type": "stream",
     "text": [
      "Number of distinct name: 49\n",
      "Number of distinct rom: 17\n",
      "Number of distinct ram: 15\n",
      "Number of distinct cpu: 12\n",
      "Number of distinct color: 65\n"
     ]
    }
   ],
   "source": [
    "print(\"Number of distinct name: {}\".format(len(df[\"name\"].value_counts())))\n",
    "print(\"Number of distinct rom: {}\".format(len(df[\"rom\"].value_counts())))\n",
    "print(\"Number of distinct ram: {}\".format(len(df[\"ram\"].value_counts())))\n",
    "print(\"Number of distinct cpu: {}\".format(len(df[\"cpu\"].value_counts())))\n",
    "print(\"Number of distinct color: {}\".format(len(df[\"color\"].value_counts())))"
   ]
  },
  {
   "cell_type": "code",
   "execution_count": null,
   "metadata": {},
   "outputs": [],
   "source": [
    "len()"
   ]
  }
 ],
 "metadata": {
  "interpreter": {
   "hash": "308d8f8c5f56baa072876887063e484fb088d633444accbe0bc991378c9ebf3b"
  },
  "kernelspec": {
   "display_name": "Python 3.10.4 ('crawler')",
   "language": "python",
   "name": "python3"
  },
  "language_info": {
   "codemirror_mode": {
    "name": "ipython",
    "version": 3
   },
   "file_extension": ".py",
   "mimetype": "text/x-python",
   "name": "python",
   "nbconvert_exporter": "python",
   "pygments_lexer": "ipython3",
   "version": "3.10.4"
  },
  "orig_nbformat": 4
 },
 "nbformat": 4,
 "nbformat_minor": 2
}
