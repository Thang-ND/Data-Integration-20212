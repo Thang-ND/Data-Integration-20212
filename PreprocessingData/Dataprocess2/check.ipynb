{
 "cells": [
  {
   "cell_type": "code",
   "execution_count": 1,
   "metadata": {},
   "outputs": [],
   "source": [
    "import pandas as pd"
   ]
  },
  {
   "cell_type": "code",
   "execution_count": 3,
   "metadata": {},
   "outputs": [],
   "source": [
    "df = pd.read_json(\"./target_data.json\")"
   ]
  },
  {
   "cell_type": "code",
   "execution_count": 5,
   "metadata": {},
   "outputs": [
    {
     "name": "stdout",
     "output_type": "stream",
     "text": [
      "<class 'pandas.core.frame.DataFrame'>\n",
      "Int64Index: 1584 entries, 0 to 1583\n",
      "Data columns (total 24 columns):\n",
      " #   Column            Non-Null Count  Dtype  \n",
      "---  ------            --------------  -----  \n",
      " 0   name              1584 non-null   object \n",
      " 1   url               1584 non-null   object \n",
      " 2   cpu               1584 non-null   object \n",
      " 3   os                0 non-null      float64\n",
      " 4   gpu               1400 non-null   object \n",
      " 5   ram               1584 non-null   object \n",
      " 6   rom               1584 non-null   object \n",
      " 7   price             1584 non-null   object \n",
      " 8   connect           0 non-null      float64\n",
      " 9   screentype        1418 non-null   object \n",
      " 10  color             1584 non-null   object \n",
      " 11  front_camera      0 non-null      float64\n",
      " 12  rear_camera       0 non-null      float64\n",
      " 13  battery_capacity  1584 non-null   object \n",
      " 14  bluetooth         1418 non-null   object \n",
      " 15  wifi              1418 non-null   object \n",
      " 16  size              1584 non-null   object \n",
      " 17  resolution        1418 non-null   object \n",
      " 18  weight            1584 non-null   object \n",
      " 19  jack_audio        1402 non-null   object \n",
      " 20  mobile_network    1402 non-null   object \n",
      " 21  sim               1418 non-null   object \n",
      " 22  security          1418 non-null   object \n",
      " 23  material          0 non-null      float64\n",
      "dtypes: float64(5), object(19)\n",
      "memory usage: 309.4+ KB\n"
     ]
    }
   ],
   "source": [
    "df.info()"
   ]
  },
  {
   "cell_type": "code",
   "execution_count": null,
   "metadata": {},
   "outputs": [],
   "source": []
  }
 ],
 "metadata": {
  "interpreter": {
   "hash": "308d8f8c5f56baa072876887063e484fb088d633444accbe0bc991378c9ebf3b"
  },
  "kernelspec": {
   "display_name": "Python 3.10.4 ('crawler')",
   "language": "python",
   "name": "python3"
  },
  "language_info": {
   "codemirror_mode": {
    "name": "ipython",
    "version": 3
   },
   "file_extension": ".py",
   "mimetype": "text/x-python",
   "name": "python",
   "nbconvert_exporter": "python",
   "pygments_lexer": "ipython3",
   "version": "3.10.4"
  },
  "orig_nbformat": 4
 },
 "nbformat": 4,
 "nbformat_minor": 2
}
