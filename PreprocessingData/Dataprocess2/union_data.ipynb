{
 "cells": [
  {
   "cell_type": "code",
   "execution_count": 2,
   "metadata": {},
   "outputs": [
    {
     "name": "stdout",
     "output_type": "stream",
     "text": [
      "setup done!\n"
     ]
    }
   ],
   "source": [
    "import pandas as pd\n",
    "import numpy as np\n",
    "print('setup done!')"
   ]
  },
  {
   "cell_type": "code",
   "execution_count": 5,
   "metadata": {},
   "outputs": [
    {
     "name": "stdout",
     "output_type": "stream",
     "text": [
      "           name                                                url  cpu  \\\n",
      "0     IPHONE 12          https://www.xtmobile.vn/iphone-12-64gb-cu  A14   \n",
      "1     IPHONE 12          https://www.xtmobile.vn/iphone-12-64gb-cu  A14   \n",
      "2     IPHONE 12          https://www.xtmobile.vn/iphone-12-64gb-cu  A14   \n",
      "3     IPHONE 12          https://www.xtmobile.vn/iphone-12-64gb-cu  A14   \n",
      "4     IPHONE 12          https://www.xtmobile.vn/iphone-12-64gb-cu  A14   \n",
      "...         ...                                                ...  ...   \n",
      "2769  IPHONE 11  https://didongthongminh.vn/iphone-11-128gb-chi...  A13   \n",
      "2770  IPHONE 11  https://didongthongminh.vn/iphone-11-128gb-chi...  A13   \n",
      "2771  IPHONE 11  https://didongthongminh.vn/iphone-11-128gb-chi...  A13   \n",
      "2772  IPHONE 11  https://didongthongminh.vn/iphone-11-128gb-chi...  A13   \n",
      "2773  IPHONE 11  https://didongthongminh.vn/iphone-11-128gb-chi...  A13   \n",
      "\n",
      "          os                gpu  ram    rom     price connect  \\\n",
      "0     iOS 15                NaN  4GB   64GB  14190000     NaN   \n",
      "1     iOS 15                NaN  4GB   64GB  14390000     NaN   \n",
      "2     iOS 15                NaN  4GB   64GB  14590000     NaN   \n",
      "3     iOS 15                NaN  4GB   64GB  14590000     NaN   \n",
      "4     iOS 15                NaN  4GB   64GB  14590000     NaN   \n",
      "...      ...                ...  ...    ...       ...     ...   \n",
      "2769     NaN  Apple GPU 4 nhân   4GB  128GB  13190000     NaN   \n",
      "2770     NaN  Apple GPU 4 nhân   4GB  128GB  13190000     NaN   \n",
      "2771     NaN  Apple GPU 4 nhân   4GB  128GB  13290000     NaN   \n",
      "2772     NaN  Apple GPU 4 nhân   4GB  128GB  13190000     NaN   \n",
      "2773     NaN  Apple GPU 4 nhân   4GB  128GB  13290000     NaN   \n",
      "\n",
      "            screentype  ...      bluetooth  \\\n",
      "0     Super Retina XDR  ...  Bluetooth 5.0   \n",
      "1     Super Retina XDR  ...  Bluetooth 5.0   \n",
      "2     Super Retina XDR  ...  Bluetooth 5.0   \n",
      "3     Super Retina XDR  ...  Bluetooth 5.0   \n",
      "4     Super Retina XDR  ...  Bluetooth 5.0   \n",
      "...                ...  ...            ...   \n",
      "2769          IPS LCD   ...      A2DPv5.0    \n",
      "2770          IPS LCD   ...      A2DPv5.0    \n",
      "2771          IPS LCD   ...      A2DPv5.0    \n",
      "2772          IPS LCD   ...      A2DPv5.0    \n",
      "2773          IPS LCD   ...      A2DPv5.0    \n",
      "\n",
      "                                                   wifi size  \\\n",
      "0                                    Wi‑Fi 6 (802.11ax)  6.1   \n",
      "1                                    Wi‑Fi 6 (802.11ax)  6.1   \n",
      "2                                    Wi‑Fi 6 (802.11ax)  6.1   \n",
      "3                                    Wi‑Fi 6 (802.11ax)  6.1   \n",
      "4                                    Wi‑Fi 6 (802.11ax)  6.1   \n",
      "...                                                 ...  ...   \n",
      "2769  Wi-Fi hotspotWi-Fi 802.11 a/b/g/n/ac/axDual-ba...  6.1   \n",
      "2770  Wi-Fi hotspotWi-Fi 802.11 a/b/g/n/ac/axDual-ba...  6.1   \n",
      "2771  Wi-Fi hotspotWi-Fi 802.11 a/b/g/n/ac/axDual-ba...  6.1   \n",
      "2772  Wi-Fi hotspotWi-Fi 802.11 a/b/g/n/ac/axDual-ba...  6.1   \n",
      "2773  Wi-Fi hotspotWi-Fi 802.11 a/b/g/n/ac/axDual-ba...  6.1   \n",
      "\n",
      "              resolution weight  jack_audio  mobile_network  \\\n",
      "0        12MP True Depth    164   Lightning  Hỗ trợ LTE, 5G   \n",
      "1        12MP True Depth    164   Lightning  Hỗ trợ LTE, 5G   \n",
      "2        12MP True Depth    164   Lightning  Hỗ trợ LTE, 5G   \n",
      "3        12MP True Depth    164   Lightning  Hỗ trợ LTE, 5G   \n",
      "4        12MP True Depth    164   Lightning  Hỗ trợ LTE, 5G   \n",
      "...                  ...    ...         ...             ...   \n",
      "2769  828 x 1792 Pixels     194  Lightning       Hỗ trợ 4G    \n",
      "2770  828 x 1792 Pixels     194  Lightning       Hỗ trợ 4G    \n",
      "2771  828 x 1792 Pixels     194  Lightning       Hỗ trợ 4G    \n",
      "2772  828 x 1792 Pixels     194  Lightning       Hỗ trợ 4G    \n",
      "2773  828 x 1792 Pixels     194  Lightning       Hỗ trợ 4G    \n",
      "\n",
      "                               sim                     security  \\\n",
      "0     2 sim (1 sim vật lý, 1 esim)  Nhận diện khuôn mặt Face ID   \n",
      "1     2 sim (1 sim vật lý, 1 esim)  Nhận diện khuôn mặt Face ID   \n",
      "2     2 sim (1 sim vật lý, 1 esim)  Nhận diện khuôn mặt Face ID   \n",
      "3     2 sim (1 sim vật lý, 1 esim)  Nhận diện khuôn mặt Face ID   \n",
      "4     2 sim (1 sim vật lý, 1 esim)  Nhận diện khuôn mặt Face ID   \n",
      "...                            ...                          ...   \n",
      "2769      1 Nano SIM &amp; 1 eSIM    Mở khoá khuôn mặt Face ID    \n",
      "2770      1 Nano SIM &amp; 1 eSIM    Mở khoá khuôn mặt Face ID    \n",
      "2771      1 Nano SIM &amp; 1 eSIM    Mở khoá khuôn mặt Face ID    \n",
      "2772      1 Nano SIM &amp; 1 eSIM    Mở khoá khuôn mặt Face ID    \n",
      "2773      1 Nano SIM &amp; 1 eSIM    Mở khoá khuôn mặt Face ID    \n",
      "\n",
      "                                           material  \n",
      "0     Khung nhôm + Màn hình mặt gốm + Mặt lưng kính  \n",
      "1     Khung nhôm + Màn hình mặt gốm + Mặt lưng kính  \n",
      "2     Khung nhôm + Màn hình mặt gốm + Mặt lưng kính  \n",
      "3     Khung nhôm + Màn hình mặt gốm + Mặt lưng kính  \n",
      "4     Khung nhôm + Màn hình mặt gốm + Mặt lưng kính  \n",
      "...                                             ...  \n",
      "2769                                            NaN  \n",
      "2770                                            NaN  \n",
      "2771                                            NaN  \n",
      "2772                                            NaN  \n",
      "2773                                            NaN  \n",
      "\n",
      "[2774 rows x 24 columns]\n"
     ]
    }
   ],
   "source": [
    "paths = ['.\\data2.json', '.\\data3.json','.\\data4.json','.\\data5.json','.\\data6.json','.\\data7.json','.\\data8.json',\n",
    "'.\\data10.json','.\\data11.json','.\\\\target_data.json']\n",
    "\n",
    "df = pd.read_json(paths[0])\n",
    "\n",
    "for index in range(1,len(paths)):\n",
    "    _ = pd.read_json(paths[index])\n",
    "    df = pd.concat([df, _ ], ignore_index=True)\n",
    "\n",
    "\n",
    "print(df)\n",
    "df.to_json('../../DataMatching/data.json')"
   ]
  }
 ],
 "metadata": {
  "kernelspec": {
   "display_name": "Python 3.10.5 64-bit",
   "language": "python",
   "name": "python3"
  },
  "language_info": {
   "codemirror_mode": {
    "name": "ipython",
    "version": 3
   },
   "file_extension": ".py",
   "mimetype": "text/x-python",
   "name": "python",
   "nbconvert_exporter": "python",
   "pygments_lexer": "ipython3",
   "version": "3.10.5"
  },
  "orig_nbformat": 4,
  "vscode": {
   "interpreter": {
    "hash": "37c1db7a528a9bcff0ab476acccc9e6daab0f71b788e37d977c47ade13268300"
   }
  }
 },
 "nbformat": 4,
 "nbformat_minor": 2
}
