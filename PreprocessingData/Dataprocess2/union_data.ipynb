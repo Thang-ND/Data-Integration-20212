{
 "cells": [
  {
   "cell_type": "code",
   "execution_count": 1,
   "metadata": {},
   "outputs": [
    {
     "name": "stdout",
     "output_type": "stream",
     "text": [
      "setup done!\n"
     ]
    }
   ],
   "source": [
    "import pandas as pd\n",
    "import numpy as np\n",
    "print('setup done!')"
   ]
  },
  {
   "cell_type": "code",
   "execution_count": 3,
   "metadata": {},
   "outputs": [
    {
     "name": "stdout",
     "output_type": "stream",
     "text": [
      "['Black' 'White' 'Purple' 'Red' 'Green' 'Yellow' 'Blue' 'Graphite' 'Pink'\n",
      " 'Silver' 'moss green' 'Gold' 'JetBlack' 'Gray' 'Moss Green' 'Orange'\n",
      " 'Moss green' 'Blue Skin' 'Sea Blue' 'Rose Gold' 'unknown' '128GB' '256GB'\n",
      " '512GB' '128 GB' '256 GB' '512 GB' '1TB' 'Golden Bronze' 'Bronze Gold'\n",
      " '64GB' 'Yellow/White' 'Gray/Black' 'Brown' 'Dark Gray' None 'TR?NG'\n",
      " 'BLUE' 'YELLOW' 'GREEN' 'BLACK' 'CAM' 'Eh?' 'H?NG' 'Green Mint'\n",
      " 'Navy Blue' 'Midnight Green']\n"
     ]
    }
   ],
   "source": [
    "paths = ['.\\data2.json', '.\\data3.json','.\\data4.json','.\\data5.json','.\\data6.json','.\\data7.json','.\\data8.json',\n",
    "'.\\data10.json','.\\data11.json','.\\\\target_data.json']\n",
    "\n",
    "df = pd.read_json(paths[0])\n",
    "\n",
    "for index in range(1,len(paths)):\n",
    "    _ = pd.read_json(paths[index])\n",
    "    df = pd.concat([df, _ ], ignore_index=True)\n",
    "\n",
    "\n",
    "print(df.color.unique())\n",
    "df.to_json('../../DataMatching/data.json')"
   ]
  }
 ],
 "metadata": {
  "kernelspec": {
   "display_name": "Python 3.10.5 64-bit",
   "language": "python",
   "name": "python3"
  },
  "language_info": {
   "codemirror_mode": {
    "name": "ipython",
    "version": 3
   },
   "file_extension": ".py",
   "mimetype": "text/x-python",
   "name": "python",
   "nbconvert_exporter": "python",
   "pygments_lexer": "ipython3",
   "version": "3.10.5"
  },
  "orig_nbformat": 4,
  "vscode": {
   "interpreter": {
    "hash": "37c1db7a528a9bcff0ab476acccc9e6daab0f71b788e37d977c47ade13268300"
   }
  }
 },
 "nbformat": 4,
 "nbformat_minor": 2
}
